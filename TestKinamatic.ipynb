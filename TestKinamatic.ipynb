{
 "cells": [
  {
   "cell_type": "markdown",
   "metadata": {},
   "source": [
    "Test พี่เขา"
   ]
  },
  {
   "cell_type": "code",
   "execution_count": 1,
   "metadata": {},
   "outputs": [],
   "source": [
    "from HW3_utils import FKHW3\n",
    "import numpy as np\n",
    "import math\n",
    "q = [0,0,0]\n"
   ]
  },
  {
   "cell_type": "code",
   "execution_count": 2,
   "metadata": {},
   "outputs": [
    {
     "name": "stdout",
     "output_type": "stream",
     "text": [
      "R : [[[-1.0000000e+00 -1.0000000e+00 -1.0000000e+00  6.1232343e-17]\n",
      "  [-1.2246469e-16 -7.4987988e-33 -7.4987988e-33  6.1232343e-17]\n",
      "  [ 0.0000000e+00  1.2246469e-16  1.2246469e-16  1.0000000e+00]]\n",
      "\n",
      " [[ 1.2246469e-16  1.2246469e-16  1.2246469e-16  1.0000000e+00]\n",
      "  [-1.0000000e+00 -6.1232343e-17 -6.1232343e-17 -1.2246469e-16]\n",
      "  [ 0.0000000e+00  1.0000000e+00  1.0000000e+00 -6.1232343e-17]]\n",
      "\n",
      " [[ 0.0000000e+00  0.0000000e+00  0.0000000e+00  1.2246469e-16]\n",
      "  [ 0.0000000e+00  1.0000000e+00  1.0000000e+00  1.0000000e+00]\n",
      "  [ 1.0000000e+00  6.1232343e-17  6.1232343e-17 -6.1232343e-17]]],\n",
      " P : [[ 0.0000000e+00  0.0000000e+00  4.2500000e-01  8.9943000e-01]\n",
      " [ 0.0000000e+00  0.0000000e+00 -5.2047489e-17  1.0900000e-01]\n",
      " [ 8.9200000e-02  8.9200000e-02  8.9200000e-02 -3.8000000e-03]],\n",
      " R_e : [[ 6.1232343e-17  6.1232343e-17  1.0000000e+00]\n",
      " [ 1.0000000e+00 -1.2246469e-16 -6.1232343e-17]\n",
      " [ 1.2246469e-16  1.0000000e+00 -6.1232343e-17]],\n",
      " p_e : [ 0.89943  0.109   -0.0038 ]\n",
      "=========================================\n",
      "R_i : [[-1.0000000e+00 -7.4987988e-33  1.2246469e-16]\n",
      " [ 1.2246469e-16 -6.1232343e-17  1.0000000e+00]\n",
      " [ 0.0000000e+00  1.0000000e+00  6.1232343e-17]]\n",
      "=========================================\n",
      "P_i : [0.     0.     0.0892]\n",
      "P_1 : [0.     0.     0.0892]\n",
      "P_2 : [ 4.2500000e-01 -5.2047489e-17  8.9200000e-02]\n",
      "P_3 : [ 0.89943  0.109   -0.0038 ]\n",
      "P_e : [ 0.89943  0.109   -0.0038 ]\n"
     ]
    }
   ],
   "source": [
    "R,P,R_e,p_e = FKHW3(q)\n",
    "\n",
    "print(f\"R : {R},\\n P : {P},\\n R_e : {R_e},\\n p_e : {p_e}\")\n",
    "\n",
    "print(\"=========================================\")\n",
    "print(f\"R_i : {R[:,:,1]}\")\n",
    "print(\"=========================================\")\n",
    "print(f\"P_i : {P[:,0]}\")\n",
    "print(f\"P_1 : {P[:,1]}\")\n",
    "print(f\"P_2 : {P[:,2]}\")\n",
    "print(f\"P_3 : {P[:,3]}\")\n",
    "print(f\"P_e : {p_e}\")\n",
    "# print(\"=========================================\")\n",
    "# print(f\"P_i : {p_e-P[:,2]}\")"
   ]
  },
  {
   "cell_type": "markdown",
   "metadata": {},
   "source": [
    "Test ข้อ 1"
   ]
  },
  {
   "cell_type": "code",
   "execution_count": 3,
   "metadata": {},
   "outputs": [
    {
     "name": "stdout",
     "output_type": "stream",
     "text": [
      "[[-0.109   -0.093   -0.093  ]\n",
      " [ 0.89943  0.       0.     ]\n",
      " [ 0.      -0.89943 -0.47443]\n",
      " [ 0.      -0.      -0.     ]\n",
      " [ 0.       1.       1.     ]\n",
      " [ 1.       0.       0.     ]]\n"
     ]
    }
   ],
   "source": [
    "from FRA333_HW3_6504_6527 import endEffectorJacobianHW3\n",
    "\n",
    "J = endEffectorJacobianHW3(q)\n",
    "print(J.round(5))"
   ]
  },
  {
   "cell_type": "markdown",
   "metadata": {},
   "source": [
    "Test ข้อ 2"
   ]
  },
  {
   "cell_type": "code",
   "execution_count": 6,
   "metadata": {},
   "outputs": [
    {
     "name": "stdout",
     "output_type": "stream",
     "text": [
      "False\n"
     ]
    }
   ],
   "source": [
    "from FRA333_HW3_6504_6527 import checkSingularityHW3\n",
    "\n",
    "S = checkSingularityHW3(q)\n",
    "print(S)"
   ]
  },
  {
   "cell_type": "markdown",
   "metadata": {},
   "source": [
    "Test ข้อ 3"
   ]
  },
  {
   "cell_type": "code",
   "execution_count": 7,
   "metadata": {},
   "outputs": [
    {
     "name": "stdout",
     "output_type": "stream",
     "text": [
      "[[1]\n",
      " [2]\n",
      " [3]\n",
      " [4]\n",
      " [5]\n",
      " [6]]\n",
      "[[7.68986]\n",
      " [2.20871]\n",
      " [3.48371]]\n"
     ]
    }
   ],
   "source": [
    "from FRA333_HW3_6504_6527 import computeEffortHW3\n",
    "w = np.array([1,2,3,4,5,6])\n",
    "w = w.reshape(6,1)\n",
    "\n",
    "tau = computeEffortHW3(q,w)\n",
    "print(w)\n",
    "print(tau)"
   ]
  }
 ],
 "metadata": {
  "kernelspec": {
   "display_name": "Python 3",
   "language": "python",
   "name": "python3"
  },
  "language_info": {
   "codemirror_mode": {
    "name": "ipython",
    "version": 3
   },
   "file_extension": ".py",
   "mimetype": "text/x-python",
   "name": "python",
   "nbconvert_exporter": "python",
   "pygments_lexer": "ipython3",
   "version": "3.12.7"
  }
 },
 "nbformat": 4,
 "nbformat_minor": 2
}
