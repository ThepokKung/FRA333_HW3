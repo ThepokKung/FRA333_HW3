{
 "cells": [
  {
   "cell_type": "markdown",
   "metadata": {},
   "source": [
    "Test พี่เขา"
   ]
  },
  {
   "cell_type": "code",
   "execution_count": 1,
   "metadata": {},
   "outputs": [],
   "source": [
    "from HW3_utils import FKHW3\n",
    "import numpy as np\n",
    "import math\n",
    "q = [0,0,0]\n"
   ]
  },
  {
   "cell_type": "code",
   "execution_count": 2,
   "metadata": {},
   "outputs": [
    {
     "name": "stdout",
     "output_type": "stream",
     "text": [
      "R : [[[-1.0000000e+00 -1.0000000e+00 -1.0000000e+00  6.1232343e-17]\n",
      "  [-1.2246469e-16 -7.4987988e-33 -7.4987988e-33  6.1232343e-17]\n",
      "  [ 0.0000000e+00  1.2246469e-16  1.2246469e-16  1.0000000e+00]]\n",
      "\n",
      " [[ 1.2246469e-16  1.2246469e-16  1.2246469e-16  1.0000000e+00]\n",
      "  [-1.0000000e+00 -6.1232343e-17 -6.1232343e-17 -1.2246469e-16]\n",
      "  [ 0.0000000e+00  1.0000000e+00  1.0000000e+00 -6.1232343e-17]]\n",
      "\n",
      " [[ 0.0000000e+00  0.0000000e+00  0.0000000e+00  1.2246469e-16]\n",
      "  [ 0.0000000e+00  1.0000000e+00  1.0000000e+00  1.0000000e+00]\n",
      "  [ 1.0000000e+00  6.1232343e-17  6.1232343e-17 -6.1232343e-17]]],\n",
      " P : [[ 0.0000000e+00  0.0000000e+00  4.2500000e-01  8.9943000e-01]\n",
      " [ 0.0000000e+00  0.0000000e+00 -5.2047489e-17  1.0900000e-01]\n",
      " [ 8.9200000e-02  8.9200000e-02  8.9200000e-02 -3.8000000e-03]],\n",
      " R_e : [[ 6.1232343e-17  6.1232343e-17  1.0000000e+00]\n",
      " [ 1.0000000e+00 -1.2246469e-16 -6.1232343e-17]\n",
      " [ 1.2246469e-16  1.0000000e+00 -6.1232343e-17]],\n",
      " p_e : [ 0.89943  0.109   -0.0038 ]\n",
      "=========================================\n",
      "R_i : [[ 6.1232343e-17  6.1232343e-17  1.0000000e+00]\n",
      " [ 1.0000000e+00 -1.2246469e-16 -6.1232343e-17]\n",
      " [ 1.2246469e-16  1.0000000e+00 -6.1232343e-17]]\n",
      "=========================================\n",
      "P_i : [ 0.89943  0.109   -0.0038 ]\n"
     ]
    }
   ],
   "source": [
    "R,P,R_e,p_e = FKHW3(q)\n",
    "\n",
    "print(f\"R : {R},\\n P : {P},\\n R_e : {R_e},\\n p_e : {p_e}\")\n",
    "\n",
    "print(\"=========================================\")\n",
    "print(f\"R_i : {R[:,:,3]}\")\n",
    "print(\"=========================================\")\n",
    "print(f\"P_i : {P[:,3]}\")"
   ]
  },
  {
   "cell_type": "code",
   "execution_count": 3,
   "metadata": {},
   "outputs": [
    {
     "name": "stdout",
     "output_type": "stream",
     "text": [
      "[[0.]\n",
      " [0.]\n",
      " [1.]]\n",
      "[ 0.89943  0.109   -0.093  ]\n"
     ]
    },
    {
     "ename": "ValueError",
     "evalue": "incompatible dimensions for cross product\n(dimension must be 2 or 3)",
     "output_type": "error",
     "traceback": [
      "\u001b[1;31m---------------------------------------------------------------------------\u001b[0m",
      "\u001b[1;31mValueError\u001b[0m                                Traceback (most recent call last)",
      "Cell \u001b[1;32mIn[3], line 5\u001b[0m\n\u001b[0;32m      1\u001b[0m \u001b[38;5;28;01mfrom\u001b[39;00m \u001b[38;5;21;01mFRA333_HW3_6504_6527\u001b[39;00m \u001b[38;5;28;01mimport\u001b[39;00m endEffectorJacobianHW3\n\u001b[0;32m      3\u001b[0m \u001b[38;5;66;03m# J_v,J_w = endEffectorJacobianHW3(q)\u001b[39;00m\n\u001b[1;32m----> 5\u001b[0m J \u001b[38;5;241m=\u001b[39m \u001b[43mendEffectorJacobianHW3\u001b[49m\u001b[43m(\u001b[49m\u001b[43mq\u001b[49m\u001b[43m)\u001b[49m\n\u001b[0;32m      6\u001b[0m \u001b[38;5;28mprint\u001b[39m(J)\n",
      "File \u001b[1;32md:\\KMUTT\\Year 3\\FRA333 Kinematics\\HW3\\FRA333_HW3\\FRA333_HW3_6504_6527.py:39\u001b[0m, in \u001b[0;36mendEffectorJacobianHW3\u001b[1;34m(q)\u001b[0m\n\u001b[0;32m     36\u001b[0m \u001b[38;5;28mprint\u001b[39m(diffrent)\n\u001b[0;32m     38\u001b[0m \u001b[38;5;66;03m# หา Linear velocity สำหรับ Jacobian\u001b[39;00m\n\u001b[1;32m---> 39\u001b[0m J_v_i \u001b[38;5;241m=\u001b[39m \u001b[43mnp\u001b[49m\u001b[38;5;241;43m.\u001b[39;49m\u001b[43mcross\u001b[49m\u001b[43m(\u001b[49m\u001b[43mrotation\u001b[49m\u001b[43m,\u001b[49m\u001b[43mdiffrent\u001b[49m\u001b[43m)\u001b[49m\n\u001b[0;32m     41\u001b[0m J[\u001b[38;5;241m0\u001b[39m][i] \u001b[38;5;241m=\u001b[39m J_v_i[\u001b[38;5;241m0\u001b[39m]\n\u001b[0;32m     42\u001b[0m J[\u001b[38;5;241m1\u001b[39m][i] \u001b[38;5;241m=\u001b[39m J_v_i[\u001b[38;5;241m1\u001b[39m]\n",
      "File \u001b[1;32m~\\AppData\\Local\\Packages\\PythonSoftwareFoundation.Python.3.12_qbz5n2kfra8p0\\LocalCache\\local-packages\\Python312\\site-packages\\numpy\\core\\numeric.py:1596\u001b[0m, in \u001b[0;36mcross\u001b[1;34m(a, b, axisa, axisb, axisc, axis)\u001b[0m\n\u001b[0;32m   1593\u001b[0m msg \u001b[38;5;241m=\u001b[39m (\u001b[38;5;124m\"\u001b[39m\u001b[38;5;124mincompatible dimensions for cross product\u001b[39m\u001b[38;5;130;01m\\n\u001b[39;00m\u001b[38;5;124m\"\u001b[39m\n\u001b[0;32m   1594\u001b[0m        \u001b[38;5;124m\"\u001b[39m\u001b[38;5;124m(dimension must be 2 or 3)\u001b[39m\u001b[38;5;124m\"\u001b[39m)\n\u001b[0;32m   1595\u001b[0m \u001b[38;5;28;01mif\u001b[39;00m a\u001b[38;5;241m.\u001b[39mshape[\u001b[38;5;241m-\u001b[39m\u001b[38;5;241m1\u001b[39m] \u001b[38;5;129;01mnot\u001b[39;00m \u001b[38;5;129;01min\u001b[39;00m (\u001b[38;5;241m2\u001b[39m, \u001b[38;5;241m3\u001b[39m) \u001b[38;5;129;01mor\u001b[39;00m b\u001b[38;5;241m.\u001b[39mshape[\u001b[38;5;241m-\u001b[39m\u001b[38;5;241m1\u001b[39m] \u001b[38;5;129;01mnot\u001b[39;00m \u001b[38;5;129;01min\u001b[39;00m (\u001b[38;5;241m2\u001b[39m, \u001b[38;5;241m3\u001b[39m):\n\u001b[1;32m-> 1596\u001b[0m     \u001b[38;5;28;01mraise\u001b[39;00m \u001b[38;5;167;01mValueError\u001b[39;00m(msg)\n\u001b[0;32m   1598\u001b[0m \u001b[38;5;66;03m# Create the output array\u001b[39;00m\n\u001b[0;32m   1599\u001b[0m shape \u001b[38;5;241m=\u001b[39m broadcast(a[\u001b[38;5;241m.\u001b[39m\u001b[38;5;241m.\u001b[39m\u001b[38;5;241m.\u001b[39m, \u001b[38;5;241m0\u001b[39m], b[\u001b[38;5;241m.\u001b[39m\u001b[38;5;241m.\u001b[39m\u001b[38;5;241m.\u001b[39m, \u001b[38;5;241m0\u001b[39m])\u001b[38;5;241m.\u001b[39mshape\n",
      "\u001b[1;31mValueError\u001b[0m: incompatible dimensions for cross product\n(dimension must be 2 or 3)"
     ]
    }
   ],
   "source": [
    "from FRA333_HW3_6504_6527 import endEffectorJacobianHW3\n",
    "\n",
    "# J_v,J_w = endEffectorJacobianHW3(q)\n",
    "\n",
    "J = endEffectorJacobianHW3(q)\n",
    "print(J)"
   ]
  }
 ],
 "metadata": {
  "kernelspec": {
   "display_name": "Python 3",
   "language": "python",
   "name": "python3"
  },
  "language_info": {
   "codemirror_mode": {
    "name": "ipython",
    "version": 3
   },
   "file_extension": ".py",
   "mimetype": "text/x-python",
   "name": "python",
   "nbconvert_exporter": "python",
   "pygments_lexer": "ipython3",
   "version": "3.12.7"
  }
 },
 "nbformat": 4,
 "nbformat_minor": 2
}
